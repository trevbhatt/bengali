{
 "cells": [
  {
   "cell_type": "markdown",
   "metadata": {},
   "source": [
    "## Set up the notebook"
   ]
  },
  {
   "cell_type": "code",
   "execution_count": 1,
   "metadata": {},
   "outputs": [],
   "source": [
    "# Import modules\n",
    "\n",
    "# PyTorch\n",
    "import torch\n",
    "import torch.nn as nn\n",
    "import torch.nn.functional as F\n",
    "from torch.utils import data\n",
    "from torchvision import transforms\n",
    "import torchvision\n",
    "from torchvision.transforms import functional as TF\n",
    "from skimage import transform\n",
    "import torch.optim as optim\n",
    "\n",
    "# Import tqdm for progress bar\n",
    "from tqdm import tqdm\n",
    "\n",
    "# Numpy\n",
    "import numpy as np\n",
    "\n",
    "# PyArrow for parquet reading\n",
    "import pyarrow as pa\n",
    "import pyarrow.parquet as pq\n",
    "\n",
    "# Pandas\n",
    "import pandas as pd\n",
    "\n",
    "# Matplotlib\n",
    "from matplotlib import pyplot as plt\n",
    "\n",
    "# Pickle\n",
    "import pickle\n",
    "\n",
    "# Debugging tool\n",
    "from IPython.core.debugger import set_trace\n",
    "\n",
    "# Copy\n",
    "from copy import deepcopy\n",
    "\n",
    "# CV2 for immages\n",
    "import cv2"
   ]
  },
  {
   "cell_type": "code",
   "execution_count": 2,
   "metadata": {},
   "outputs": [],
   "source": [
    "# Training Model Params\n",
    "epochs = 60\n",
    "batch_size = 32\n",
    "learning_rate = 0.001\n",
    "\n",
    "\n",
    "# Image params\n",
    "img_height = 137\n",
    "img_width = 236\n",
    "img_resize = 136\n",
    "validation_split= 0.2\n",
    "\n",
    "# Data Loading params\n",
    "label_file = '/storage/train.csv'\n",
    "char_type_gr = 'grapheme_root'\n",
    "char_type_vd = 'vowel_diacritic'\n",
    "char_type_cd = 'consonant_diacritic'\n",
    "\n",
    "\n"
   ]
  },
  {
   "cell_type": "code",
   "execution_count": 3,
   "metadata": {},
   "outputs": [
    {
     "name": "stdout",
     "output_type": "stream",
     "text": [
      "cuda:0\n"
     ]
    }
   ],
   "source": [
    "# Set up GPU\n",
    "\n",
    "# Check if GPU is available and set up the device\n",
    "if torch.cuda.is_available():\n",
    "    device = torch.device('cuda:0')\n",
    "\n",
    "print(device)"
   ]
  },
  {
   "cell_type": "markdown",
   "metadata": {},
   "source": [
    "## Load the data"
   ]
  },
  {
   "cell_type": "code",
   "execution_count": 4,
   "metadata": {},
   "outputs": [],
   "source": [
    "# # Load once, then pickle\n",
    "\n",
    "# # #initialize train image with train image 0\n",
    "# train_image_0 = pq.read_table('/storage/training/train_image_data_0.parquet').to_pandas().set_index('image_id')\n",
    "# train_image_torch = torch.from_numpy(train_image_0.values).to(device) \n",
    "# del train_image_0\n",
    "\n",
    "# # train image 1\n",
    "# train_image_1 = pq.read_table('/storage/training/train_image_data_1.parquet').to_pandas().set_index('image_id')\n",
    "# train_image_1 = torch.from_numpy(train_image_1.values).to(device)\n",
    "# train_image_torch = torch.cat((train_image_torch, train_image_1), 0)\n",
    "# del train_image_1\n",
    "\n",
    "# train_image_2 = pq.read_table('/storage/training/train_image_data_2.parquet').to_pandas().set_index('image_id')\n",
    "# train_image_2 = torch.from_numpy(train_image_2.values).to(device)\n",
    "# train_image_torch = torch.cat((train_image_torch, train_image_2), 0)\n",
    "# del train_image_2\n",
    "\n",
    "# train_image_3 = pq.read_table('/storage/training/train_image_data_3.parquet').to_pandas().set_index('image_id')\n",
    "# train_image_3 = torch.from_numpy(train_image_3.values).to(device)\n",
    "# train_image_torch = torch.cat((train_image_torch, train_image_3), 0) # serialize into a pickle\n",
    "# del train_image_3\n",
    "\n",
    "# print(train_image_torch.shape)\n",
    "\n",
    "# # upload to drive using pickle\n",
    "# with open('train_image_torch.pickle', 'wb') as f:\n",
    "#     pickle.dump(train_image_torch, f, protocol=4)"
   ]
  },
  {
   "cell_type": "code",
   "execution_count": 5,
   "metadata": {},
   "outputs": [
    {
     "name": "stdout",
     "output_type": "stream",
     "text": [
      "torch.Size([200840, 32332])\n"
     ]
    }
   ],
   "source": [
    "# Load the training image data from the pickled file, ensuring to load to the GPU\n",
    "with open('train_image_torch.pickle', 'rb') as f:\n",
    "    \n",
    "    train_image_torch = pickle.load(f).to(device)\n",
    "    \n",
    "print(train_image_torch.shape)"
   ]
  },
  {
   "cell_type": "code",
   "execution_count": 6,
   "metadata": {},
   "outputs": [],
   "source": [
    "# Deifine a class for loading data\n",
    "\n",
    "class Dataset(data.Dataset):\n",
    "    '''Charactizes a dataset for use with pytorch'''\n",
    "    def __init__(self, X, label_file, char_type, transform=None, img_height=137, img_width=236, img_resize=None, rgb=False):\n",
    "        '''Initialization\n",
    "        X: torch tensor that includes all of the imported data\n",
    "        label_file: location of label csv\n",
    "        char_type: string name of label column from label csv\n",
    "        transform: pytorch transform\n",
    "        img_height: height of image for reshaping the tensor\n",
    "        img_width: width of image for reshaping the tensor\n",
    "        img_resize: crop the image square (img_resize x img_resize)\n",
    "        '''\n",
    "        # Assign variables\n",
    "        self.X = X\n",
    "        self.transform = transform\n",
    "        self.img_height = img_height\n",
    "        self.img_width = img_width\n",
    "        self.img_resize = img_resize\n",
    "        self.rgb = rgb\n",
    "        \n",
    "        # read CSV for the character type into a GPU torch tensor\n",
    "        self.labels = torch.tensor(pd.read_csv(label_file)[char_type]).to(device)\n",
    "        \n",
    "    def __len__(self):\n",
    "        '''total number of samples'''\n",
    "        return len(self.labels)\n",
    "    \n",
    "    def __getitem__(self, idx):\n",
    "        '''generates one sample of data'''     \n",
    "        \n",
    "        # retrieve, reshape, and normalize the values of the tensor to be between 0 and 1   \n",
    "        img = self.X[idx].reshape(1, self.img_height, self.img_width)/255.\n",
    "        \n",
    "        # Crop images into squares for cnn\n",
    "        if self.img_resize:\n",
    "            # Define box for resize\n",
    "            lower = int(self.img_height/2 - self.img_resize/2)\n",
    "            upper = int(self.img_height/2 + self.img_resize/2)\n",
    "            left = int(self.img_width/2 - self.img_resize/2)\n",
    "            right = int(self.img_width/2 + self.img_resize/2)\n",
    "            \n",
    "            # crop the image\n",
    "            img = img[:, lower:upper, left:right]\n",
    "        \n",
    "        # Reformat for use with resnet\n",
    "        if self.rgb:\n",
    "            img = torch.stack((img,)*3)\n",
    "            img = torch.squeeze(img)\n",
    "            img = TF.normalize(img, mean=[0.485, 0.456, 0.406], std=[0.229, 0.224, 0.225])\n",
    "#             img = torch.unsqueeze(img, 0)\n",
    "        \n",
    "        # retrieve the proper label for this image\n",
    "        label = self.labels[idx]\n",
    "        \n",
    "        # package image and label into a sample\n",
    "        sample = {'image': img, 'label': label}\n",
    "        \n",
    "        # perform any transforms if prescribed\n",
    "        if self.transform:\n",
    "            sample['image'] = self.transform(sample['image'])\n",
    "        \n",
    "        return sample\n",
    "\n"
   ]
  },
  {
   "cell_type": "code",
   "execution_count": 7,
   "metadata": {},
   "outputs": [],
   "source": [
    "def validation_splitter(src_dataset, validation_split):\n",
    "    '''Creates index to split'''\n",
    "    \n",
    "    train_index = int((1 - validation_split) * len(src_dataset))\n",
    "    test_index = len(src_dataset) - train_index\n",
    "    \n",
    "    return [train_index, test_index]"
   ]
  },
  {
   "cell_type": "code",
   "execution_count": 8,
   "metadata": {},
   "outputs": [],
   "source": [
    "def create_loader(source_tensor, label_file, char_type, img_resize, validation_split, batch_size, rgb=False):\n",
    "    \n",
    "    # Create dataset\n",
    "    dataset = Dataset(source_tensor,\n",
    "                     label_file,\n",
    "                     char_type,\n",
    "                     img_resize=img_resize,\n",
    "                     rgb=rgb)\n",
    "    \n",
    "    torch.manual_seed(42)\n",
    "    \n",
    "    # Split Data\n",
    "    val_split_indexes = validation_splitter(dataset, validation_split)\n",
    "    train, test = data.random_split(dataset, val_split_indexes)\n",
    "    print(f'{char_type} train size: {val_split_indexes[0]}    test size: {val_split_indexes[1]}')\n",
    "    \n",
    "    # Create loaders\n",
    "    train_loader = data.DataLoader(train, \n",
    "                                  batch_size=batch_size)\n",
    "    test_loader = data.DataLoader(test,\n",
    "                                 batch_size=batch_size)\n",
    "    \n",
    "    return train_loader, test_loader\n",
    "\n",
    "\n"
   ]
  },
  {
   "cell_type": "code",
   "execution_count": 9,
   "metadata": {},
   "outputs": [
    {
     "name": "stdout",
     "output_type": "stream",
     "text": [
      "grapheme_root train size: 160672    test size: 40168\n",
      "vowel_diacritic train size: 160672    test size: 40168\n",
      "consonant_diacritic train size: 160672    test size: 40168\n"
     ]
    }
   ],
   "source": [
    "grapheme_root_trainer, grapheme_root_tester = create_loader(train_image_torch, \n",
    "                                                            label_file, \n",
    "                                                            char_type_gr,\n",
    "                                                            img_resize,\n",
    "                                                            validation_split,\n",
    "                                                            batch_size)\n",
    "\n",
    "vowel_diacritic_trainer, vowel_diacritic_tester = create_loader(train_image_torch,\n",
    "                                                               label_file,\n",
    "                                                               char_type_vd,\n",
    "                                                               img_resize,\n",
    "                                                               validation_split,\n",
    "                                                               batch_size)\n",
    "\n",
    "consonant_diacritic_trainer, consonant_diacritic_tester = create_loader(train_image_torch,\n",
    "                                                                       label_file,\n",
    "                                                                       char_type_cd,\n",
    "                                                                       img_resize,\n",
    "                                                                       validation_split,\n",
    "                                                                       batch_size)"
   ]
  },
  {
   "cell_type": "code",
   "execution_count": 10,
   "metadata": {},
   "outputs": [
    {
     "data": {
      "image/png": "[encoded data removed]",
      "text/plain": [
       "<Figure size 432x288 with 1 Axes>"
      ]
     },
     "metadata": {
      "needs_background": "light"
     },
     "output_type": "display_data"
    }
   ],
   "source": [
    "# Plot a random image to see if data was correctly loaded\n",
    "\n",
    "# # Create grapheme root dataset\n",
    "grapheme_root_data = Dataset(train_image_torch,\n",
    "                             label_file, \n",
    "                             char_type_gr,\n",
    "                             img_resize=img_resize)\n",
    "\n",
    "# Choose a random number\n",
    "random_image = np.random.randint(0, train_image_torch.shape[0])\n",
    "\n",
    "# move the sample for plotting to the cpu to be accessible to numpy\n",
    "sample_0 = grapheme_root_data[random_image]['image'].to(torch.device('cpu'))\n",
    "sample_0 = sample_0.numpy().reshape(img_resize,img_resize)\n",
    "\n",
    "# Plot the image\n",
    "plt.imshow(sample_0, cmap=\"Greys\")\n",
    "plt.imsave('sample_image.png', sample_0, cmap='Greys')\n",
    "with open('sample_0.pickle', 'wb') as f:\n",
    "    pickle.dump(sample_0, f, protocol=4)\n",
    "with open('label_0.pickle', 'wb') as f:\n",
    "    pickle.dump(grapheme_root_data[random_image]['label'], f, protocol=4)\n",
    "with open('label_0_vowel.pickle', 'wb') as f:\n",
    "    pickle.dump(torch.tensor(pd.read_csv(label_file)[char_type_vd].iloc[random_image]).to(device), f, protocol=4)\n",
    "with open('label_0_consonant.pickle', 'wb') as f:\n",
    "    pickle.dump(torch.tensor(pd.read_csv(label_file)[char_type_cd].iloc[random_image]).to(device), f, protocol=4)\n"
   ]
  },
  {
   "cell_type": "code",
   "execution_count": 11,
   "metadata": {},
   "outputs": [
    {
     "name": "stdout",
     "output_type": "stream",
     "text": [
      "53595\n"
     ]
    }
   ],
   "source": [
    "print(random_image)"
   ]
  },
  {
   "cell_type": "markdown",
   "metadata": {},
   "source": [
    "## Define the network"
   ]
  },
  {
   "cell_type": "code",
   "execution_count": 12,
   "metadata": {},
   "outputs": [],
   "source": [
    "# Define a function that calculates a convnet's output channels\n",
    "def output_size(in_size, kernel_size, stride, padding=0):\n",
    "\n",
    "    output = int((in_size - kernel_size + 2*(padding)) / stride) + 1\n",
    "\n",
    "    return(output)"
   ]
  },
  {
   "cell_type": "code",
   "execution_count": 13,
   "metadata": {},
   "outputs": [
    {
     "name": "stdout",
     "output_type": "stream",
     "text": [
      "graph(%input.1 : Float(1, 1, 136, 136),\n",
      "      %conv1.weight : Float(16, 1, 9, 9),\n",
      "      %conv1.bias : Float(16),\n",
      "      %conv2.weight : Float(32, 16, 8, 8),\n",
      "      %conv2.bias : Float(32),\n",
      "      %fc1.weight : Float(256, 16928),\n",
      "      %fc1.bias : Float(256),\n",
      "      %fc2.weight : Float(200, 256),\n",
      "      %fc2.bias : Float(200),\n",
      "      %fc3.weight : Float(168, 200),\n",
      "      %fc3.bias : Float(168)):\n",
      "  %11 : Float(1, 16, 128, 128) = onnx::Conv[dilations=[1, 1], group=1, kernel_shape=[9, 9], pads=[0, 0, 0, 0], strides=[1, 1]](%input.1, %conv1.weight, %conv1.bias) # /usr/local/lib/python3.6/dist-packages/torch/nn/modules/conv.py:342:0\n",
      "  %12 : Float(1, 16, 128, 128) = onnx::Relu(%11) # /usr/local/lib/python3.6/dist-packages/torch/nn/functional.py:914:0\n",
      "  %13 : Float(1, 16, 59, 59) = onnx::MaxPool[kernel_shape=[11, 11], pads=[0, 0, 0, 0], strides=[2, 2]](%12) # /usr/local/lib/python3.6/dist-packages/torch/nn/functional.py:488:0\n",
      "  %14 : Float(1, 32, 52, 52) = onnx::Conv[dilations=[1, 1], group=1, kernel_shape=[8, 8], pads=[0, 0, 0, 0], strides=[1, 1]](%13, %conv2.weight, %conv2.bias) # /usr/local/lib/python3.6/dist-packages/torch/nn/modules/conv.py:342:0\n",
      "  %15 : Float(1, 32, 52, 52) = onnx::Relu(%14) # /usr/local/lib/python3.6/dist-packages/torch/nn/functional.py:914:0\n",
      "  %16 : Float(1, 32, 23, 23) = onnx::MaxPool[kernel_shape=[8, 8], pads=[0, 0, 0, 0], strides=[2, 2]](%15) # /usr/local/lib/python3.6/dist-packages/torch/nn/functional.py:488:0\n",
      "  %17 : Tensor = onnx::Shape(%16)\n",
      "  %18 : Tensor = onnx::Constant[value={0}]()\n",
      "  %19 : Long() = onnx::Gather[axis=0](%17, %18) # <ipython-input-13-07fde86b07a5>:5:0\n",
      "  %20 : Long() = onnx::Constant[value={-1}]()\n",
      "  %21 : Tensor = onnx::Unsqueeze[axes=[0]](%19)\n",
      "  %22 : Tensor = onnx::Unsqueeze[axes=[0]](%20)\n",
      "  %23 : Tensor = onnx::Concat[axis=0](%21, %22)\n",
      "  %24 : Float(1, 16928) = onnx::Reshape(%16, %23) # <ipython-input-13-07fde86b07a5>:5:0\n",
      "  %25 : Float(1, 256) = onnx::Gemm[alpha=1, beta=1, transB=1](%24, %fc1.weight, %fc1.bias) # /usr/local/lib/python3.6/dist-packages/torch/nn/functional.py:1370:0\n",
      "  %26 : Float(1, 256) = onnx::Relu(%25) # /usr/local/lib/python3.6/dist-packages/torch/nn/functional.py:914:0\n",
      "  %27 : Float(1, 200) = onnx::Gemm[alpha=1, beta=1, transB=1](%26, %fc2.weight, %fc2.bias) # /usr/local/lib/python3.6/dist-packages/torch/nn/functional.py:1370:0\n",
      "  %28 : Float(1, 200) = onnx::Relu(%27) # /usr/local/lib/python3.6/dist-packages/torch/nn/functional.py:914:0\n",
      "  %29 : Float(1, 168) = onnx::Gemm[alpha=1, beta=1, transB=1](%28, %fc3.weight, %fc3.bias) # /usr/local/lib/python3.6/dist-packages/torch/nn/functional.py:1370:0\n",
      "  return (%29)\n",
      "\n",
      "Net(\n",
      "  (conv1): Conv2d(1, 16, kernel_size=(9, 9), stride=(1, 1))\n",
      "  (max_pool1): MaxPool2d(kernel_size=11, stride=2, padding=0, dilation=1, ceil_mode=False)\n",
      "  (conv2): Conv2d(16, 32, kernel_size=(8, 8), stride=(1, 1))\n",
      "  (max_pool2): MaxPool2d(kernel_size=8, stride=2, padding=0, dilation=1, ceil_mode=False)\n",
      "  (flatten): Flatten()\n",
      "  (fc1): Linear(in_features=16928, out_features=256, bias=True)\n",
      "  (fc2): Linear(in_features=256, out_features=200, bias=True)\n",
      "  (fc3): Linear(in_features=200, out_features=168, bias=True)\n",
      ")\n"
     ]
    }
   ],
   "source": [
    "# Define a structure for the neural network\n",
    "\n",
    "class Flatten(nn.Module):\n",
    "    def forward(self, input):\n",
    "        return input.view(input.size(0), -1)\n",
    "    \n",
    "class Net(nn.Module):\n",
    "\n",
    "    def __init__(self):\n",
    "        super(Net, self).__init__()\n",
    "       \n",
    "        # Define the Parameters for the neural network\n",
    "        # see if neutron can help visualize my network\n",
    "        # Look at fast ai tutorials for CNN\n",
    "        \n",
    "        # Convolution layer 1\n",
    "        self.conv1_input_channels = 1\n",
    "        self.conv1_kernel_size = 9\n",
    "        self.conv1_stride = 1\n",
    "        self.conv1_output_channels = 16\n",
    "        self.conv1_output_dim = output_size(img_resize, \n",
    "                                            self.conv1_kernel_size, \n",
    "                                            self.conv1_stride)\n",
    "        \n",
    "        # Pooling layer 1\n",
    "        self.pool1_kernel_size = 11\n",
    "        self.pool1_stride = 2\n",
    "        self.pool1_output_dim = output_size(self.conv1_output_dim, \n",
    "                                            self.pool1_kernel_size, \n",
    "                                            self.pool1_stride)\n",
    "       \n",
    "        #conv 2\n",
    "        self.conv2_input_channels = self.conv1_output_channels\n",
    "        self.conv2_kernel_size = 8\n",
    "        self.conv2_stride = 1\n",
    "        self.conv2_output_channels = 32\n",
    "        self.conv2_output_dim = output_size(self.pool1_output_dim,\n",
    "                                            self.conv2_kernel_size, \n",
    "                                            self.conv2_stride)\n",
    "        \n",
    "        # Pooling layer 2\n",
    "        self.pool2_kernel_size = 8\n",
    "        self.pool2_stride = 2\n",
    "        self.pool2_output_dim = output_size(self.conv2_output_dim,\n",
    "                                           self.pool2_kernel_size,\n",
    "                                           self.pool2_stride)\n",
    "        \n",
    "        # Fully connected 1 (input is batch_size x height x width after pooling)\n",
    "        self.fc1_input_features = self.conv2_output_channels * self.pool2_output_dim**2\n",
    "        self.fc1_output_features = 256\n",
    "       \n",
    "        # Fully connected 2\n",
    "        self.fc2_input_features = self.fc1_output_features\n",
    "        self.fc2_output_features = 200\n",
    "           \n",
    "        # Fully Connected 3 (output is number of features)\n",
    "        self.fc3_input_features = self.fc2_output_features\n",
    "        self.fc3_output_features = 168\n",
    "        \n",
    "        # Create the layers\n",
    "        self.conv1 = nn.Conv2d(self.conv1_input_channels, \n",
    "                               self.conv1_output_channels, \n",
    "                               self.conv1_kernel_size, \n",
    "                               stride=self.conv1_stride)\n",
    "        \n",
    "        self.max_pool1 = nn.MaxPool2d(self.pool1_kernel_size, self.pool1_stride)\n",
    "        \n",
    "        self.conv2 = nn.Conv2d(self.conv2_input_channels, \n",
    "                               self.conv2_output_channels, \n",
    "                               self.conv2_kernel_size,\n",
    "                               stride=self.conv2_stride)\n",
    "        \n",
    "        self.max_pool2 = nn.MaxPool2d(self.pool2_kernel_size, self.pool2_stride)\n",
    "        \n",
    "        self.flatten = Flatten()\n",
    "        \n",
    "        self.fc1 = nn.Linear(self.fc1_input_features, self.fc1_output_features)\n",
    "        \n",
    "        self.fc2 = nn.Linear(self.fc2_input_features, self.fc2_output_features)\n",
    "        \n",
    "        self.fc3 = nn.Linear(self.fc3_input_features, self.fc3_output_features)\n",
    "        \n",
    "        self.features = [self.conv1, self.conv2, self.fc1, self.fc2, self.fc3]\n",
    "\n",
    "      \n",
    "\n",
    "    def forward(self, x):\n",
    "        # run the tensor through the layers\n",
    "        x = F.relu(self.conv1(x))\n",
    "        x = self.max_pool1(x)\n",
    "        x = F.relu(self.conv2(x))\n",
    "        x = self.max_pool2(x)\n",
    "        x = self.flatten(x)\n",
    "        x = F.relu(self.fc1(x))\n",
    "        x = F.relu(self.fc2(x))\n",
    "        x = self.fc3(x)\n",
    "        return x\n",
    "\n",
    "    def num_flat_features(self, x):\n",
    "        # number of flat features to determine the size of the first fully connected layer\n",
    "        size = x.size()[1:] \n",
    "        num_features = 1\n",
    "        for s in size:\n",
    "            num_features *= s\n",
    "        return num_features\n",
    "    \n",
    "\n",
    "    \n",
    "# move this net to the GPU\n",
    "grapheme_root_net = Net().to(device)\n",
    "vowel_diacritic_net = deepcopy(Net()).to(device)\n",
    "consonant_diacritic_net = deepcopy(Net()).to(device)\n",
    "\n",
    "# copy the net to an ONNX file for visualization\n",
    "\n",
    "_ = torch.onnx.export(grapheme_root_net,  grapheme_root_data[random_image]['image'].unsqueeze(1), \"banglanet.onnx\", verbose=True)\n",
    "\n",
    "# specify loss criteria and optimizers\n",
    "criterion = nn.CrossEntropyLoss().to(device)\n",
    "\n",
    "grapheme_root_optimizer = optim.SGD(grapheme_root_net.parameters(), lr=learning_rate, momentum=0.9)\n",
    "vowel_diacritic_optimizer = optim.SGD(vowel_diacritic_net.parameters(), lr=learning_rate, momentum=0.9)\n",
    "consonant_diacritic_optimizer = optim.SGD(consonant_diacritic_net.parameters(), lr= learning_rate, momentum=0.9)\n",
    "\n",
    "\n",
    "# Print a summary of the network\n",
    "print(grapheme_root_net)"
   ]
  },
  {
   "cell_type": "markdown",
   "metadata": {},
   "source": [
    "## Train and Run the Models"
   ]
  },
  {
   "cell_type": "code",
   "execution_count": 14,
   "metadata": {},
   "outputs": [],
   "source": [
    "def test_model(model, dataloader):\n",
    "        \n",
    "    correct = 0\n",
    "    total = 0\n",
    "    with torch.no_grad():\n",
    "        for item in dataloader:\n",
    "            images, labels = item['image'], item['label']\n",
    "            outputs = model(images)\n",
    "            _, predicted = torch.max(outputs.data, 1)\n",
    "            total += labels.size(0)\n",
    "            correct += (predicted == labels).sum().item()\n",
    "\n",
    "    return correct / total\n"
   ]
  },
  {
   "cell_type": "code",
   "execution_count": 15,
   "metadata": {},
   "outputs": [],
   "source": [
    "def run_model(model, dataloader, epochs, optimizer, criterion, test_dataloader):    \n",
    "    epoch_loss = np.empty_like(range(epochs))\n",
    "    for epoch in tqdm(range(epochs)):\n",
    "        running_loss = 0.0\n",
    "        for i, item in enumerate(dataloader, 0):\n",
    "            inputs, labels = item['image'], item['label']\n",
    "\n",
    "            optimizer.zero_grad()\n",
    "\n",
    "            outputs = model(inputs)\n",
    "\n",
    "            loss = criterion(outputs, labels)\n",
    "            loss.backward()\n",
    "            optimizer.step()\n",
    "\n",
    "            running_loss += loss.item()\n",
    "        \n",
    "        val_error = test_model(model, test_dataloader)\n",
    "            \n",
    "        print(f'epoch: {epoch + 1}, loss: {running_loss/i}, validation accuracy: {val_error}')\n",
    "        epoch_loss[epoch] = running_loss/i\n",
    "\n",
    "    return model, epoch_loss"
   ]
  },
  {
   "cell_type": "code",
   "execution_count": 16,
   "metadata": {},
   "outputs": [],
   "source": [
    "def plot_loss(loss, char_type=''):\n",
    "    \n",
    "    epoch_labels = range(1, len(loss)+1)\n",
    "    \n",
    "    plt.plot(epoch_labels, loss)\n",
    "    plt.title(f'Loss over epochs {char_type}')\n",
    "    plt.xlabel('Epoch')\n",
    "    plt.ylabel('Loss')\n",
    "    plt.show()"
   ]
  },
  {
   "cell_type": "code",
   "execution_count": 17,
   "metadata": {},
   "outputs": [],
   "source": [
    "# grapheme_model, grapheme_loss = run_model(grapheme_root_net, \n",
    "#                                           grapheme_root_trainer, \n",
    "#                                           epochs, \n",
    "#                                           grapheme_root_optimizer, \n",
    "#                                           criterion,\n",
    "#                                           grapheme_root_tester)\n",
    "\n",
    "# plot_loss(grapheme_loss, char_type_gr)\n",
    "# torch.save(grapheme_model, 'storage/models/grapheme_root.pth')\n",
    "\n",
    "# with open('grapheme_root_loss.pickle', 'wb') as f:\n",
    "#     pickle.dump(grapheme_loss, f, protocol=4)"
   ]
  },
  {
   "cell_type": "code",
   "execution_count": 18,
   "metadata": {},
   "outputs": [],
   "source": [
    "# vowel_diacritic_model, vowel_loss = run_model(vowel_diacritic_net,\n",
    "#                                  vowel_diacritic_trainer,\n",
    "#                                  epochs,\n",
    "#                                  vowel_diacritic_optimizer,\n",
    "#                                  criterion,\n",
    "#                                  vowel_diacritic_tester)\n",
    "\n",
    "# plot_loss(vowel_loss, char_type_vd)\n",
    "# torch.save(vowel_diacritic_model, 'storage/models/vowel_diacritic.pth')\n",
    "\n",
    "# with open('vowel_diacritic_loss.pickle', 'wb') as f:\n",
    "#     pickle.dump(vowel_loss, f, protocol=4)"
   ]
  },
  {
   "cell_type": "code",
   "execution_count": 19,
   "metadata": {},
   "outputs": [],
   "source": [
    "# consonant_diacritic_model, consonant_loss= run_model(consonant_diacritic_net,\n",
    "#                                       consonant_diacritic_trainer,\n",
    "#                                       epochs,\n",
    "#                                       consonant_diacritic_optimizer,\n",
    "#                                       criterion,\n",
    "#                                       consonant_diacritic_tester)\n",
    "# plot_loss(consonant_loss, char_type_cd)\n",
    "# torch.save(consonant_diacritic_model, 'storage/models/consonant_diacritic.pth')\n",
    "\n",
    "# with open('consonant_diacritic_loss.pickle', 'wb') as f:\n",
    "#     pickle.dump(consonant_loss, f, protocol=4)"
   ]
  },
  {
   "cell_type": "code",
   "execution_count": 20,
   "metadata": {},
   "outputs": [
    {
     "name": "stdout",
     "output_type": "stream",
     "text": [
      "0.6982921728739295\n"
     ]
    },
    {
     "data": {
      "image/png": "[encoded data removed]",
      "text/plain": [
       "<Figure size 432x288 with 1 Axes>"
      ]
     },
     "metadata": {
      "needs_background": "light"
     },
     "output_type": "display_data"
    }
   ],
   "source": [
    "grapheme_model_loaded = torch.load('storage/models/grapheme_root.pth')\n",
    "with open('grapheme_root_loss.pickle', 'rb') as f:\n",
    "    grapheme_loss_loaded = pickle.load(f)\n",
    "print(test_model(grapheme_model_loaded, grapheme_root_tester))\n",
    "plot_loss(grapheme_loss_loaded, \"grapheme root\")"
   ]
  },
  {
   "cell_type": "code",
   "execution_count": 21,
   "metadata": {},
   "outputs": [
    {
     "name": "stdout",
     "output_type": "stream",
     "text": [
      "0.8746265684126668\n"
     ]
    },
    {
     "data": {
      "image/png": "[encoded data removed]",
      "text/plain": [
       "<Figure size 432x288 with 1 Axes>"
      ]
     },
     "metadata": {
      "needs_background": "light"
     },
     "output_type": "display_data"
    }
   ],
   "source": [
    "vowel_model_loaded = torch.load('storage/models/vowel_diacritic.pth')\n",
    "with open('vowel_diacritic_loss.pickle', 'rb') as f:\n",
    "    vowel_loss_loaded = pickle.load(f)\n",
    "print(test_model(vowel_model_loaded, vowel_diacritic_tester))\n",
    "plot_loss(vowel_loss_loaded, \"vowel diacritic\")"
   ]
  },
  {
   "cell_type": "code",
   "execution_count": 22,
   "metadata": {},
   "outputs": [
    {
     "name": "stdout",
     "output_type": "stream",
     "text": [
      "0.9134883489344752\n"
     ]
    },
    {
     "data": {
      "image/png": "[encoded data removed]",
      "text/plain": [
       "<Figure size 432x288 with 1 Axes>"
      ]
     },
     "metadata": {
      "needs_background": "light"
     },
     "output_type": "display_data"
    }
   ],
   "source": [
    "consonant_model_loaded = torch.load('storage/models/consonant_diacritic.pth')\n",
    "with open('consonant_diacritic_loss.pickle', 'rb') as f:\n",
    "    consonant_loss_loaded = pickle.load(f)\n",
    "print(test_model(consonant_model_loaded, consonant_diacritic_tester))\n",
    "plot_loss(consonant_loss_loaded, \"consonant diacritic\")"
   ]
  },
  {
   "cell_type": "markdown",
   "metadata": {},
   "source": [
    "## Build a Resnet"
   ]
  },
  {
   "cell_type": "code",
   "execution_count": 23,
   "metadata": {},
   "outputs": [
    {
     "name": "stdout",
     "output_type": "stream",
     "text": [
      "grapheme_root train size: 160672    test size: 40168\n",
      "vowel_diacritic train size: 160672    test size: 40168\n",
      "consonant_diacritic train size: 160672    test size: 40168\n"
     ]
    }
   ],
   "source": [
    "# Resnet requires 3 channel input, so load Data as RGB\n",
    "\n",
    "grapheme_root_trainer_resnet, grapheme_root_tester_resnet = create_loader(train_image_torch, \n",
    "                                                                          label_file, \n",
    "                                                                          char_type_gr,\n",
    "                                                                          img_resize,\n",
    "                                                                          validation_split,\n",
    "                                                                          batch_size,\n",
    "                                                                          rgb=True)\n",
    "\n",
    "vowel_diacritic_trainer_resnet, vowel_diacritic_tester_resnet = create_loader(train_image_torch,\n",
    "                                                                              label_file,\n",
    "                                                                              char_type_vd,\n",
    "                                                                              img_resize,\n",
    "                                                                             validation_split,\n",
    "                                                                             batch_size,\n",
    "                                                                             rgb=True)\n",
    "\n",
    "consonant_diacritic_trainer_resnet, consonant_diacritic_tester_resnet = create_loader(train_image_torch,\n",
    "                                                                                     label_file,\n",
    "                                                                                     char_type_cd,\n",
    "                                                                                     img_resize,\n",
    "                                                                                     validation_split,\n",
    "                                                                                     batch_size,\n",
    "                                                                                     rgb=True)"
   ]
  },
  {
   "cell_type": "code",
   "execution_count": 25,
   "metadata": {},
   "outputs": [
    {
     "name": "stderr",
     "output_type": "stream",
     "text": [
      "Using cache found in /root/.cache/torch/hub/pytorch_vision_v0.5.0\n",
      "Using cache found in /root/.cache/torch/hub/pytorch_vision_v0.5.0\n",
      "Using cache found in /root/.cache/torch/hub/pytorch_vision_v0.5.0\n"
     ]
    },
    {
     "name": "stdout",
     "output_type": "stream",
     "text": [
      "--Return--\n",
      "> <ipython-input-25-2ac6899576e9>(19)<module>()->None\n",
      "-> import pdb; pdb.set_trace()\n"
     ]
    },
    {
     "name": "stdin",
     "output_type": "stream",
     "text": [
      "(Pdb)  c\n"
     ]
    },
    {
     "name": "stdout",
     "output_type": "stream",
     "text": [
      "graph(%input.1 : Float(1, 3, 136, 136),\n",
      "      %conv1.weight : Float(64, 3, 7, 7),\n",
      "      %bn1.weight : Float(64),\n",
      "      %bn1.bias : Float(64),\n",
      "      %bn1.running_mean : Float(64),\n",
      "      %bn1.running_var : Float(64),\n",
      "      %bn1.num_batches_tracked : Long(),\n",
      "      %layer1.0.conv1.weight : Float(64, 64, 3, 3),\n",
      "      %layer1.0.bn1.weight : Float(64),\n",
      "      %layer1.0.bn1.bias : Float(64),\n",
      "      %layer1.0.bn1.running_mean : Float(64),\n",
      "      %layer1.0.bn1.running_var : Float(64),\n",
      "      %layer1.0.bn1.num_batches_tracked : Long(),\n",
      "      %layer1.0.conv2.weight : Float(64, 64, 3, 3),\n",
      "      %layer1.0.bn2.weight : Float(64),\n",
      "      %layer1.0.bn2.bias : Float(64),\n",
      "      %layer1.0.bn2.running_mean : Float(64),\n",
      "      %layer1.0.bn2.running_var : Float(64),\n",
      "      %layer1.0.bn2.num_batches_tracked : Long(),\n",
      "      %layer1.1.conv1.weight : Float(64, 64, 3, 3),\n",
      "      %layer1.1.bn1.weight : Float(64),\n",
      "      %layer1.1.bn1.bias : Float(64),\n",
      "      %layer1.1.bn1.running_mean : Float(64),\n",
      "      %layer1.1.bn1.running_var : Float(64),\n",
      "      %layer1.1.bn1.num_batches_tracked : Long(),\n",
      "      %layer1.1.conv2.weight : Float(64, 64, 3, 3),\n",
      "      %layer1.1.bn2.weight : Float(64),\n",
      "      %layer1.1.bn2.bias : Float(64),\n",
      "      %layer1.1.bn2.running_mean : Float(64),\n",
      "      %layer1.1.bn2.running_var : Float(64),\n",
      "      %layer1.1.bn2.num_batches_tracked : Long(),\n",
      "      %layer2.0.conv1.weight : Float(128, 64, 3, 3),\n",
      "      %layer2.0.bn1.weight : Float(128),\n",
      "      %layer2.0.bn1.bias : Float(128),\n",
      "      %layer2.0.bn1.running_mean : Float(128),\n",
      "      %layer2.0.bn1.running_var : Float(128),\n",
      "      %layer2.0.bn1.num_batches_tracked : Long(),\n",
      "      %layer2.0.conv2.weight : Float(128, 128, 3, 3),\n",
      "      %layer2.0.bn2.weight : Float(128),\n",
      "      %layer2.0.bn2.bias : Float(128),\n",
      "      %layer2.0.bn2.running_mean : Float(128),\n",
      "      %layer2.0.bn2.running_var : Float(128),\n",
      "      %layer2.0.bn2.num_batches_tracked : Long(),\n",
      "      %layer2.0.downsample.0.weight : Float(128, 64, 1, 1),\n",
      "      %layer2.0.downsample.1.weight : Float(128),\n",
      "      %layer2.0.downsample.1.bias : Float(128),\n",
      "      %layer2.0.downsample.1.running_mean : Float(128),\n",
      "      %layer2.0.downsample.1.running_var : Float(128),\n",
      "      %layer2.0.downsample.1.num_batches_tracked : Long(),\n",
      "      %layer2.1.conv1.weight : Float(128, 128, 3, 3),\n",
      "      %layer2.1.bn1.weight : Float(128),\n",
      "      %layer2.1.bn1.bias : Float(128),\n",
      "      %layer2.1.bn1.running_mean : Float(128),\n",
      "      %layer2.1.bn1.running_var : Float(128),\n",
      "      %layer2.1.bn1.num_batches_tracked : Long(),\n",
      "      %layer2.1.conv2.weight : Float(128, 128, 3, 3),\n",
      "      %layer2.1.bn2.weight : Float(128),\n",
      "      %layer2.1.bn2.bias : Float(128),\n",
      "      %layer2.1.bn2.running_mean : Float(128),\n",
      "      %layer2.1.bn2.running_var : Float(128),\n",
      "      %layer2.1.bn2.num_batches_tracked : Long(),\n",
      "      %layer3.0.conv1.weight : Float(256, 128, 3, 3),\n",
      "      %layer3.0.bn1.weight : Float(256),\n",
      "      %layer3.0.bn1.bias : Float(256),\n",
      "      %layer3.0.bn1.running_mean : Float(256),\n",
      "      %layer3.0.bn1.running_var : Float(256),\n",
      "      %layer3.0.bn1.num_batches_tracked : Long(),\n",
      "      %layer3.0.conv2.weight : Float(256, 256, 3, 3),\n",
      "      %layer3.0.bn2.weight : Float(256),\n",
      "      %layer3.0.bn2.bias : Float(256),\n",
      "      %layer3.0.bn2.running_mean : Float(256),\n",
      "      %layer3.0.bn2.running_var : Float(256),\n",
      "      %layer3.0.bn2.num_batches_tracked : Long(),\n",
      "      %layer3.0.downsample.0.weight : Float(256, 128, 1, 1),\n",
      "      %layer3.0.downsample.1.weight : Float(256),\n",
      "      %layer3.0.downsample.1.bias : Float(256),\n",
      "      %layer3.0.downsample.1.running_mean : Float(256),\n",
      "      %layer3.0.downsample.1.running_var : Float(256),\n",
      "      %layer3.0.downsample.1.num_batches_tracked : Long(),\n",
      "      %layer3.1.conv1.weight : Float(256, 256, 3, 3),\n",
      "      %layer3.1.bn1.weight : Float(256),\n",
      "      %layer3.1.bn1.bias : Float(256),\n",
      "      %layer3.1.bn1.running_mean : Float(256),\n",
      "      %layer3.1.bn1.running_var : Float(256),\n",
      "      %layer3.1.bn1.num_batches_tracked : Long(),\n",
      "      %layer3.1.conv2.weight : Float(256, 256, 3, 3),\n",
      "      %layer3.1.bn2.weight : Float(256),\n",
      "      %layer3.1.bn2.bias : Float(256),\n",
      "      %layer3.1.bn2.running_mean : Float(256),\n",
      "      %layer3.1.bn2.running_var : Float(256),\n",
      "      %layer3.1.bn2.num_batches_tracked : Long(),\n",
      "      %layer4.0.conv1.weight : Float(512, 256, 3, 3),\n",
      "      %layer4.0.bn1.weight : Float(512),\n",
      "      %layer4.0.bn1.bias : Float(512),\n",
      "      %layer4.0.bn1.running_mean : Float(512),\n",
      "      %layer4.0.bn1.running_var : Float(512),\n",
      "      %layer4.0.bn1.num_batches_tracked : Long(),\n",
      "      %layer4.0.conv2.weight : Float(512, 512, 3, 3),\n",
      "      %layer4.0.bn2.weight : Float(512),\n",
      "      %layer4.0.bn2.bias : Float(512),\n",
      "      %layer4.0.bn2.running_mean : Float(512),\n",
      "      %layer4.0.bn2.running_var : Float(512),\n",
      "      %layer4.0.bn2.num_batches_tracked : Long(),\n",
      "      %layer4.0.downsample.0.weight : Float(512, 256, 1, 1),\n",
      "      %layer4.0.downsample.1.weight : Float(512),\n",
      "      %layer4.0.downsample.1.bias : Float(512),\n",
      "      %layer4.0.downsample.1.running_mean : Float(512),\n",
      "      %layer4.0.downsample.1.running_var : Float(512),\n",
      "      %layer4.0.downsample.1.num_batches_tracked : Long(),\n",
      "      %layer4.1.conv1.weight : Float(512, 512, 3, 3),\n",
      "      %layer4.1.bn1.weight : Float(512),\n",
      "      %layer4.1.bn1.bias : Float(512),\n",
      "      %layer4.1.bn1.running_mean : Float(512),\n",
      "      %layer4.1.bn1.running_var : Float(512),\n",
      "      %layer4.1.bn1.num_batches_tracked : Long(),\n",
      "      %layer4.1.conv2.weight : Float(512, 512, 3, 3),\n",
      "      %layer4.1.bn2.weight : Float(512),\n",
      "      %layer4.1.bn2.bias : Float(512),\n",
      "      %layer4.1.bn2.running_mean : Float(512),\n",
      "      %layer4.1.bn2.running_var : Float(512),\n",
      "      %layer4.1.bn2.num_batches_tracked : Long(),\n",
      "      %fc.weight : Float(1000, 512),\n",
      "      %fc.bias : Float(1000)):\n",
      "  %123 : Float(1, 64, 68, 68) = onnx::Conv[dilations=[1, 1], group=1, kernel_shape=[7, 7], pads=[3, 3, 3, 3], strides=[2, 2]](%input.1, %conv1.weight) # /usr/local/lib/python3.6/dist-packages/torch/nn/modules/conv.py:342:0\n",
      "  %124 : Float(1, 64, 68, 68) = onnx::BatchNormalization[epsilon=1e-05, momentum=0.9](%123, %bn1.weight, %bn1.bias, %bn1.running_mean, %bn1.running_var) # /usr/local/lib/python3.6/dist-packages/torch/nn/functional.py:1670:0\n",
      "  %125 : Float(1, 64, 68, 68) = onnx::Relu(%124) # /usr/local/lib/python3.6/dist-packages/torch/nn/functional.py:912:0\n",
      "  %126 : Float(1, 64, 34, 34) = onnx::MaxPool[kernel_shape=[3, 3], pads=[1, 1, 1, 1], strides=[2, 2]](%125) # /usr/local/lib/python3.6/dist-packages/torch/nn/functional.py:488:0\n",
      "  %127 : Float(1, 64, 34, 34) = onnx::Conv[dilations=[1, 1], group=1, kernel_shape=[3, 3], pads=[1, 1, 1, 1], strides=[1, 1]](%126, %layer1.0.conv1.weight) # /usr/local/lib/python3.6/dist-packages/torch/nn/modules/conv.py:342:0\n",
      "  %128 : Float(1, 64, 34, 34) = onnx::BatchNormalization[epsilon=1e-05, momentum=0.9](%127, %layer1.0.bn1.weight, %layer1.0.bn1.bias, %layer1.0.bn1.running_mean, %layer1.0.bn1.running_var) # /usr/local/lib/python3.6/dist-packages/torch/nn/functional.py:1670:0\n",
      "  %129 : Float(1, 64, 34, 34) = onnx::Relu(%128) # /usr/local/lib/python3.6/dist-packages/torch/nn/functional.py:912:0\n",
      "  %130 : Float(1, 64, 34, 34) = onnx::Conv[dilations=[1, 1], group=1, kernel_shape=[3, 3], pads=[1, 1, 1, 1], strides=[1, 1]](%129, %layer1.0.conv2.weight) # /usr/local/lib/python3.6/dist-packages/torch/nn/modules/conv.py:342:0\n",
      "  %131 : Float(1, 64, 34, 34) = onnx::BatchNormalization[epsilon=1e-05, momentum=0.9](%130, %layer1.0.bn2.weight, %layer1.0.bn2.bias, %layer1.0.bn2.running_mean, %layer1.0.bn2.running_var) # /usr/local/lib/python3.6/dist-packages/torch/nn/functional.py:1670:0\n",
      "  %132 : Float(1, 64, 34, 34) = onnx::Add(%131, %126) # /usr/local/lib/python3.6/dist-packages/torchvision/models/resnet.py:70:0\n",
      "  %133 : Float(1, 64, 34, 34) = onnx::Relu(%132) # /usr/local/lib/python3.6/dist-packages/torch/nn/functional.py:912:0\n",
      "  %134 : Float(1, 64, 34, 34) = onnx::Conv[dilations=[1, 1], group=1, kernel_shape=[3, 3], pads=[1, 1, 1, 1], strides=[1, 1]](%133, %layer1.1.conv1.weight) # /usr/local/lib/python3.6/dist-packages/torch/nn/modules/conv.py:342:0\n",
      "  %135 : Float(1, 64, 34, 34) = onnx::BatchNormalization[epsilon=1e-05, momentum=0.9](%134, %layer1.1.bn1.weight, %layer1.1.bn1.bias, %layer1.1.bn1.running_mean, %layer1.1.bn1.running_var) # /usr/local/lib/python3.6/dist-packages/torch/nn/functional.py:1670:0\n",
      "  %136 : Float(1, 64, 34, 34) = onnx::Relu(%135) # /usr/local/lib/python3.6/dist-packages/torch/nn/functional.py:912:0\n",
      "  %137 : Float(1, 64, 34, 34) = onnx::Conv[dilations=[1, 1], group=1, kernel_shape=[3, 3], pads=[1, 1, 1, 1], strides=[1, 1]](%136, %layer1.1.conv2.weight) # /usr/local/lib/python3.6/dist-packages/torch/nn/modules/conv.py:342:0\n",
      "  %138 : Float(1, 64, 34, 34) = onnx::BatchNormalization[epsilon=1e-05, momentum=0.9](%137, %layer1.1.bn2.weight, %layer1.1.bn2.bias, %layer1.1.bn2.running_mean, %layer1.1.bn2.running_var) # /usr/local/lib/python3.6/dist-packages/torch/nn/functional.py:1670:0\n",
      "  %139 : Float(1, 64, 34, 34) = onnx::Add(%138, %133) # /usr/local/lib/python3.6/dist-packages/torchvision/models/resnet.py:70:0\n",
      "  %140 : Float(1, 64, 34, 34) = onnx::Relu(%139) # /usr/local/lib/python3.6/dist-packages/torch/nn/functional.py:912:0\n",
      "  %141 : Float(1, 128, 17, 17) = onnx::Conv[dilations=[1, 1], group=1, kernel_shape=[3, 3], pads=[1, 1, 1, 1], strides=[2, 2]](%140, %layer2.0.conv1.weight) # /usr/local/lib/python3.6/dist-packages/torch/nn/modules/conv.py:342:0\n",
      "  %142 : Float(1, 128, 17, 17) = onnx::BatchNormalization[epsilon=1e-05, momentum=0.9](%141, %layer2.0.bn1.weight, %layer2.0.bn1.bias, %layer2.0.bn1.running_mean, %layer2.0.bn1.running_var) # /usr/local/lib/python3.6/dist-packages/torch/nn/functional.py:1670:0\n",
      "  %143 : Float(1, 128, 17, 17) = onnx::Relu(%142) # /usr/local/lib/python3.6/dist-packages/torch/nn/functional.py:912:0\n",
      "  %144 : Float(1, 128, 17, 17) = onnx::Conv[dilations=[1, 1], group=1, kernel_shape=[3, 3], pads=[1, 1, 1, 1], strides=[1, 1]](%143, %layer2.0.conv2.weight) # /usr/local/lib/python3.6/dist-packages/torch/nn/modules/conv.py:342:0\n",
      "  %145 : Float(1, 128, 17, 17) = onnx::BatchNormalization[epsilon=1e-05, momentum=0.9](%144, %layer2.0.bn2.weight, %layer2.0.bn2.bias, %layer2.0.bn2.running_mean, %layer2.0.bn2.running_var) # /usr/local/lib/python3.6/dist-packages/torch/nn/functional.py:1670:0\n",
      "  %146 : Float(1, 128, 17, 17) = onnx::Conv[dilations=[1, 1], group=1, kernel_shape=[1, 1], pads=[0, 0, 0, 0], strides=[2, 2]](%140, %layer2.0.downsample.0.weight) # /usr/local/lib/python3.6/dist-packages/torch/nn/modules/conv.py:342:0\n",
      "  %147 : Float(1, 128, 17, 17) = onnx::BatchNormalization[epsilon=1e-05, momentum=0.9](%146, %layer2.0.downsample.1.weight, %layer2.0.downsample.1.bias, %layer2.0.downsample.1.running_mean, %layer2.0.downsample.1.running_var) # /usr/local/lib/python3.6/dist-packages/torch/nn/functional.py:1670:0\n",
      "  %148 : Float(1, 128, 17, 17) = onnx::Add(%145, %147) # /usr/local/lib/python3.6/dist-packages/torchvision/models/resnet.py:70:0\n",
      "  %149 : Float(1, 128, 17, 17) = onnx::Relu(%148) # /usr/local/lib/python3.6/dist-packages/torch/nn/functional.py:912:0\n",
      "  %150 : Float(1, 128, 17, 17) = onnx::Conv[dilations=[1, 1], group=1, kernel_shape=[3, 3], pads=[1, 1, 1, 1], strides=[1, 1]](%149, %layer2.1.conv1.weight) # /usr/local/lib/python3.6/dist-packages/torch/nn/modules/conv.py:342:0\n",
      "  %151 : Float(1, 128, 17, 17) = onnx::BatchNormalization[epsilon=1e-05, momentum=0.9](%150, %layer2.1.bn1.weight, %layer2.1.bn1.bias, %layer2.1.bn1.running_mean, %layer2.1.bn1.running_var) # /usr/local/lib/python3.6/dist-packages/torch/nn/functional.py:1670:0\n",
      "  %152 : Float(1, 128, 17, 17) = onnx::Relu(%151) # /usr/local/lib/python3.6/dist-packages/torch/nn/functional.py:912:0\n",
      "  %153 : Float(1, 128, 17, 17) = onnx::Conv[dilations=[1, 1], group=1, kernel_shape=[3, 3], pads=[1, 1, 1, 1], strides=[1, 1]](%152, %layer2.1.conv2.weight) # /usr/local/lib/python3.6/dist-packages/torch/nn/modules/conv.py:342:0\n",
      "  %154 : Float(1, 128, 17, 17) = onnx::BatchNormalization[epsilon=1e-05, momentum=0.9](%153, %layer2.1.bn2.weight, %layer2.1.bn2.bias, %layer2.1.bn2.running_mean, %layer2.1.bn2.running_var) # /usr/local/lib/python3.6/dist-packages/torch/nn/functional.py:1670:0\n",
      "  %155 : Float(1, 128, 17, 17) = onnx::Add(%154, %149) # /usr/local/lib/python3.6/dist-packages/torchvision/models/resnet.py:70:0\n",
      "  %156 : Float(1, 128, 17, 17) = onnx::Relu(%155) # /usr/local/lib/python3.6/dist-packages/torch/nn/functional.py:912:0\n",
      "  %157 : Float(1, 256, 9, 9) = onnx::Conv[dilations=[1, 1], group=1, kernel_shape=[3, 3], pads=[1, 1, 1, 1], strides=[2, 2]](%156, %layer3.0.conv1.weight) # /usr/local/lib/python3.6/dist-packages/torch/nn/modules/conv.py:342:0\n",
      "  %158 : Float(1, 256, 9, 9) = onnx::BatchNormalization[epsilon=1e-05, momentum=0.9](%157, %layer3.0.bn1.weight, %layer3.0.bn1.bias, %layer3.0.bn1.running_mean, %layer3.0.bn1.running_var) # /usr/local/lib/python3.6/dist-packages/torch/nn/functional.py:1670:0\n",
      "  %159 : Float(1, 256, 9, 9) = onnx::Relu(%158) # /usr/local/lib/python3.6/dist-packages/torch/nn/functional.py:912:0\n",
      "  %160 : Float(1, 256, 9, 9) = onnx::Conv[dilations=[1, 1], group=1, kernel_shape=[3, 3], pads=[1, 1, 1, 1], strides=[1, 1]](%159, %layer3.0.conv2.weight) # /usr/local/lib/python3.6/dist-packages/torch/nn/modules/conv.py:342:0\n",
      "  %161 : Float(1, 256, 9, 9) = onnx::BatchNormalization[epsilon=1e-05, momentum=0.9](%160, %layer3.0.bn2.weight, %layer3.0.bn2.bias, %layer3.0.bn2.running_mean, %layer3.0.bn2.running_var) # /usr/local/lib/python3.6/dist-packages/torch/nn/functional.py:1670:0\n",
      "  %162 : Float(1, 256, 9, 9) = onnx::Conv[dilations=[1, 1], group=1, kernel_shape=[1, 1], pads=[0, 0, 0, 0], strides=[2, 2]](%156, %layer3.0.downsample.0.weight) # /usr/local/lib/python3.6/dist-packages/torch/nn/modules/conv.py:342:0\n",
      "  %163 : Float(1, 256, 9, 9) = onnx::BatchNormalization[epsilon=1e-05, momentum=0.9](%162, %layer3.0.downsample.1.weight, %layer3.0.downsample.1.bias, %layer3.0.downsample.1.running_mean, %layer3.0.downsample.1.running_var) # /usr/local/lib/python3.6/dist-packages/torch/nn/functional.py:1670:0\n",
      "  %164 : Float(1, 256, 9, 9) = onnx::Add(%161, %163) # /usr/local/lib/python3.6/dist-packages/torchvision/models/resnet.py:70:0\n",
      "  %165 : Float(1, 256, 9, 9) = onnx::Relu(%164) # /usr/local/lib/python3.6/dist-packages/torch/nn/functional.py:912:0\n",
      "  %166 : Float(1, 256, 9, 9) = onnx::Conv[dilations=[1, 1], group=1, kernel_shape=[3, 3], pads=[1, 1, 1, 1], strides=[1, 1]](%165, %layer3.1.conv1.weight) # /usr/local/lib/python3.6/dist-packages/torch/nn/modules/conv.py:342:0\n",
      "  %167 : Float(1, 256, 9, 9) = onnx::BatchNormalization[epsilon=1e-05, momentum=0.9](%166, %layer3.1.bn1.weight, %layer3.1.bn1.bias, %layer3.1.bn1.running_mean, %layer3.1.bn1.running_var) # /usr/local/lib/python3.6/dist-packages/torch/nn/functional.py:1670:0\n",
      "  %168 : Float(1, 256, 9, 9) = onnx::Relu(%167) # /usr/local/lib/python3.6/dist-packages/torch/nn/functional.py:912:0\n",
      "  %169 : Float(1, 256, 9, 9) = onnx::Conv[dilations=[1, 1], group=1, kernel_shape=[3, 3], pads=[1, 1, 1, 1], strides=[1, 1]](%168, %layer3.1.conv2.weight) # /usr/local/lib/python3.6/dist-packages/torch/nn/modules/conv.py:342:0\n",
      "  %170 : Float(1, 256, 9, 9) = onnx::BatchNormalization[epsilon=1e-05, momentum=0.9](%169, %layer3.1.bn2.weight, %layer3.1.bn2.bias, %layer3.1.bn2.running_mean, %layer3.1.bn2.running_var) # /usr/local/lib/python3.6/dist-packages/torch/nn/functional.py:1670:0\n",
      "  %171 : Float(1, 256, 9, 9) = onnx::Add(%170, %165) # /usr/local/lib/python3.6/dist-packages/torchvision/models/resnet.py:70:0\n",
      "  %172 : Float(1, 256, 9, 9) = onnx::Relu(%171) # /usr/local/lib/python3.6/dist-packages/torch/nn/functional.py:912:0\n",
      "  %173 : Float(1, 512, 5, 5) = onnx::Conv[dilations=[1, 1], group=1, kernel_shape=[3, 3], pads=[1, 1, 1, 1], strides=[2, 2]](%172, %layer4.0.conv1.weight) # /usr/local/lib/python3.6/dist-packages/torch/nn/modules/conv.py:342:0\n",
      "  %174 : Float(1, 512, 5, 5) = onnx::BatchNormalization[epsilon=1e-05, momentum=0.9](%173, %layer4.0.bn1.weight, %layer4.0.bn1.bias, %layer4.0.bn1.running_mean, %layer4.0.bn1.running_var) # /usr/local/lib/python3.6/dist-packages/torch/nn/functional.py:1670:0\n",
      "  %175 : Float(1, 512, 5, 5) = onnx::Relu(%174) # /usr/local/lib/python3.6/dist-packages/torch/nn/functional.py:912:0\n",
      "  %176 : Float(1, 512, 5, 5) = onnx::Conv[dilations=[1, 1], group=1, kernel_shape=[3, 3], pads=[1, 1, 1, 1], strides=[1, 1]](%175, %layer4.0.conv2.weight) # /usr/local/lib/python3.6/dist-packages/torch/nn/modules/conv.py:342:0\n",
      "  %177 : Float(1, 512, 5, 5) = onnx::BatchNormalization[epsilon=1e-05, momentum=0.9](%176, %layer4.0.bn2.weight, %layer4.0.bn2.bias, %layer4.0.bn2.running_mean, %layer4.0.bn2.running_var) # /usr/local/lib/python3.6/dist-packages/torch/nn/functional.py:1670:0\n",
      "  %178 : Float(1, 512, 5, 5) = onnx::Conv[dilations=[1, 1], group=1, kernel_shape=[1, 1], pads=[0, 0, 0, 0], strides=[2, 2]](%172, %layer4.0.downsample.0.weight) # /usr/local/lib/python3.6/dist-packages/torch/nn/modules/conv.py:342:0\n",
      "  %179 : Float(1, 512, 5, 5) = onnx::BatchNormalization[epsilon=1e-05, momentum=0.9](%178, %layer4.0.downsample.1.weight, %layer4.0.downsample.1.bias, %layer4.0.downsample.1.running_mean, %layer4.0.downsample.1.running_var) # /usr/local/lib/python3.6/dist-packages/torch/nn/functional.py:1670:0\n",
      "  %180 : Float(1, 512, 5, 5) = onnx::Add(%177, %179) # /usr/local/lib/python3.6/dist-packages/torchvision/models/resnet.py:70:0\n",
      "  %181 : Float(1, 512, 5, 5) = onnx::Relu(%180) # /usr/local/lib/python3.6/dist-packages/torch/nn/functional.py:912:0\n",
      "  %182 : Float(1, 512, 5, 5) = onnx::Conv[dilations=[1, 1], group=1, kernel_shape=[3, 3], pads=[1, 1, 1, 1], strides=[1, 1]](%181, %layer4.1.conv1.weight) # /usr/local/lib/python3.6/dist-packages/torch/nn/modules/conv.py:342:0\n",
      "  %183 : Float(1, 512, 5, 5) = onnx::BatchNormalization[epsilon=1e-05, momentum=0.9](%182, %layer4.1.bn1.weight, %layer4.1.bn1.bias, %layer4.1.bn1.running_mean, %layer4.1.bn1.running_var) # /usr/local/lib/python3.6/dist-packages/torch/nn/functional.py:1670:0\n",
      "  %184 : Float(1, 512, 5, 5) = onnx::Relu(%183) # /usr/local/lib/python3.6/dist-packages/torch/nn/functional.py:912:0\n",
      "  %185 : Float(1, 512, 5, 5) = onnx::Conv[dilations=[1, 1], group=1, kernel_shape=[3, 3], pads=[1, 1, 1, 1], strides=[1, 1]](%184, %layer4.1.conv2.weight) # /usr/local/lib/python3.6/dist-packages/torch/nn/modules/conv.py:342:0\n",
      "  %186 : Float(1, 512, 5, 5) = onnx::BatchNormalization[epsilon=1e-05, momentum=0.9](%185, %layer4.1.bn2.weight, %layer4.1.bn2.bias, %layer4.1.bn2.running_mean, %layer4.1.bn2.running_var) # /usr/local/lib/python3.6/dist-packages/torch/nn/functional.py:1670:0\n",
      "  %187 : Float(1, 512, 5, 5) = onnx::Add(%186, %181) # /usr/local/lib/python3.6/dist-packages/torchvision/models/resnet.py:70:0\n",
      "  %188 : Float(1, 512, 5, 5) = onnx::Relu(%187) # /usr/local/lib/python3.6/dist-packages/torch/nn/functional.py:912:0\n",
      "  %189 : Float(1, 512, 1, 1) = onnx::GlobalAveragePool(%188) # /usr/local/lib/python3.6/dist-packages/torch/nn/functional.py:768:0\n",
      "  %190 : Float(1, 512) = onnx::Flatten[axis=1](%189) # /usr/local/lib/python3.6/dist-packages/torchvision/models/resnet.py:210:0\n",
      "  %191 : Float(1, 1000) = onnx::Gemm[alpha=1, beta=1, transB=1](%190, %fc.weight, %fc.bias) # /usr/local/lib/python3.6/dist-packages/torch/nn/functional.py:1370:0\n",
      "  return (%191)\n",
      "\n"
     ]
    }
   ],
   "source": [
    "# Load Resnet Models\n",
    "grapheme_model_resnet = torch.hub.load('pytorch/vision:v0.5.0', 'resnet18', pretrained=True).to(device)\n",
    "vowel_model_resnet = torch.hub.load('pytorch/vision:v0.5.0', 'resnet18', pretrained=True).to(device)\n",
    "consonant_model_resnet = torch.hub.load('pytorch/vision:v0.5.0', 'resnet18', pretrained=True).to(device)\n",
    "\n",
    "\n",
    "# Set up optimizers\n",
    "grapheme_root_optimizer_resnet = optim.SGD(grapheme_model_resnet.parameters(), lr=learning_rate, momentum=0.9)\n",
    "vowel_diacritic_optimizer_resnet = optim.SGD(vowel_model_resnet.parameters(), lr=learning_rate, momentum=0.9)\n",
    "consonant_diacritic_optimizer_resnet = optim.SGD(consonant_model_resnet.parameters(), lr= learning_rate, momentum=0.9)\n",
    "\n",
    "# Use onnx to visualize the model\n",
    "\n",
    "grapheme_root_resnet_data = Dataset(train_image_torch,\n",
    "                                    label_file, \n",
    "                                    char_type_gr,\n",
    "                                    img_resize=img_resize,\n",
    "                                    rgb=True)\n",
    "import pdb; pdb.set_trace()\n",
    "_ = torch.onnx.export(grapheme_model_resnet,  grapheme_root_resnet_data[random_image]['image'].unsqueeze(0), \"banglanet_resnet.onnx\", verbose=True)"
   ]
  },
  {
   "cell_type": "code",
   "execution_count": 31,
   "metadata": {},
   "outputs": [
    {
     "name": "stderr",
     "output_type": "stream",
     "text": [
      " 10%|█         | 1/10 [03:38<32:42, 218.05s/it]"
     ]
    },
    {
     "name": "stdout",
     "output_type": "stream",
     "text": [
      "epoch: 1, loss: 1.1060860577332545, validation accuracy: 0.8620045807608047\n"
     ]
    },
    {
     "name": "stderr",
     "output_type": "stream",
     "text": [
      " 20%|██        | 2/10 [07:16<29:05, 218.17s/it]"
     ]
    },
    {
     "name": "stdout",
     "output_type": "stream",
     "text": [
      "epoch: 2, loss: 0.32359800897983915, validation accuracy: 0.8885431189006174\n"
     ]
    },
    {
     "name": "stderr",
     "output_type": "stream",
     "text": [
      " 30%|███       | 3/10 [10:55<25:28, 218.36s/it]"
     ]
    },
    {
     "name": "stdout",
     "output_type": "stream",
     "text": [
      "epoch: 3, loss: 0.1724406153646361, validation accuracy: 0.8966092411870146\n"
     ]
    },
    {
     "name": "stderr",
     "output_type": "stream",
     "text": [
      " 40%|████      | 4/10 [14:35<21:52, 218.76s/it]"
     ]
    },
    {
     "name": "stdout",
     "output_type": "stream",
     "text": [
      "epoch: 4, loss: 0.08454238715399784, validation accuracy: 0.9017625970922127\n"
     ]
    },
    {
     "name": "stderr",
     "output_type": "stream",
     "text": [
      " 50%|█████     | 5/10 [18:14<18:15, 219.05s/it]"
     ]
    },
    {
     "name": "stdout",
     "output_type": "stream",
     "text": [
      "epoch: 5, loss: 0.03663890247207239, validation accuracy: 0.9089822744473213\n"
     ]
    },
    {
     "name": "stderr",
     "output_type": "stream",
     "text": [
      " 60%|██████    | 6/10 [21:54<14:37, 219.39s/it]"
     ]
    },
    {
     "name": "stdout",
     "output_type": "stream",
     "text": [
      "epoch: 6, loss: 0.015496973696339178, validation accuracy: 0.9118203545110536\n"
     ]
    },
    {
     "name": "stderr",
     "output_type": "stream",
     "text": [
      " 70%|███████   | 7/10 [25:34<10:58, 219.46s/it]"
     ]
    },
    {
     "name": "stdout",
     "output_type": "stream",
     "text": [
      "epoch: 7, loss: 0.007053204990953088, validation accuracy: 0.9153804023102967\n"
     ]
    },
    {
     "name": "stderr",
     "output_type": "stream",
     "text": [
      " 80%|████████  | 8/10 [29:13<07:18, 219.26s/it]"
     ]
    },
    {
     "name": "stdout",
     "output_type": "stream",
     "text": [
      "epoch: 8, loss: 0.0039867934240288, validation accuracy: 0.916575383389763\n"
     ]
    },
    {
     "name": "stderr",
     "output_type": "stream",
     "text": [
      " 90%|█████████ | 9/10 [32:51<03:38, 218.93s/it]"
     ]
    },
    {
     "name": "stdout",
     "output_type": "stream",
     "text": [
      "epoch: 9, loss: 0.0027766603872595554, validation accuracy: 0.9171728739294961\n"
     ]
    },
    {
     "name": "stderr",
     "output_type": "stream",
     "text": [
      "100%|██████████| 10/10 [36:30<00:00, 219.04s/it]"
     ]
    },
    {
     "name": "stdout",
     "output_type": "stream",
     "text": [
      "epoch: 10, loss: 0.002191248108666257, validation accuracy: 0.9173720374427405\n"
     ]
    },
    {
     "name": "stderr",
     "output_type": "stream",
     "text": [
      "\n"
     ]
    },
    {
     "data": {
      "image/png": "[encoded data removed]",
      "text/plain": [
       "<Figure size 432x288 with 1 Axes>"
      ]
     },
     "metadata": {
      "needs_background": "light"
     },
     "output_type": "display_data"
    }
   ],
   "source": [
    "# Train A resnet model\n",
    "grapheme_model_resnet, grapheme_loss_resnet = run_model(grapheme_model_resnet, \n",
    "                                                        grapheme_root_trainer_resnet, \n",
    "                                                        10, \n",
    "                                                        grapheme_root_optimizer_resnet, \n",
    "                                                        criterion,\n",
    "                                                        grapheme_root_tester_resnet)\n",
    "\n",
    "plot_loss(grapheme_loss_resnet, char_type_gr)\n",
    "torch.save(grapheme_model_resnet, 'storage/models/grapheme_root_resnet.pth')\n",
    "\n",
    "with open('grapheme_root_loss_resnet.pickle', 'wb') as f:\n",
    "    pickle.dump(grapheme_loss_resnet, f, protocol=4)"
   ]
  },
  {
   "cell_type": "code",
   "execution_count": 35,
   "metadata": {},
   "outputs": [
    {
     "data": {
      "text/plain": [
       "array([0, 0, 0, 0, 0, 0, 0, 0, 0, 0])"
      ]
     },
     "execution_count": 35,
     "metadata": {},
     "output_type": "execute_result"
    }
   ],
   "source": [
    "vowel_loss_resnet"
   ]
  },
  {
   "cell_type": "code",
   "execution_count": 26,
   "metadata": {},
   "outputs": [
    {
     "name": "stderr",
     "output_type": "stream",
     "text": [
      " 10%|█         | 1/10 [03:36<32:25, 216.17s/it]"
     ]
    },
    {
     "name": "stdout",
     "output_type": "stream",
     "text": [
      "epoch: 1, loss: 0.3045459295708345, validation accuracy: 0.9434624576777534\n"
     ]
    },
    {
     "name": "stderr",
     "output_type": "stream",
     "text": [
      " 20%|██        | 2/10 [07:12<28:49, 216.23s/it]"
     ]
    },
    {
     "name": "stdout",
     "output_type": "stream",
     "text": [
      "epoch: 2, loss: 0.12449611343473077, validation accuracy: 0.9516779525990838\n"
     ]
    },
    {
     "name": "stderr",
     "output_type": "stream",
     "text": [
      " 30%|███       | 3/10 [10:48<25:13, 216.22s/it]"
     ]
    },
    {
     "name": "stdout",
     "output_type": "stream",
     "text": [
      "epoch: 3, loss: 0.06928833328276517, validation accuracy: 0.9511551483768174\n"
     ]
    },
    {
     "name": "stderr",
     "output_type": "stream",
     "text": [
      " 40%|████      | 4/10 [14:25<21:38, 216.34s/it]"
     ]
    },
    {
     "name": "stdout",
     "output_type": "stream",
     "text": [
      "epoch: 4, loss: 0.03476023035517252, validation accuracy: 0.951727743477395\n"
     ]
    },
    {
     "name": "stderr",
     "output_type": "stream",
     "text": [
      " 50%|█████     | 5/10 [18:01<18:01, 216.29s/it]"
     ]
    },
    {
     "name": "stdout",
     "output_type": "stream",
     "text": [
      "epoch: 5, loss: 0.02008862774448091, validation accuracy: 0.9518273252340171\n"
     ]
    },
    {
     "name": "stderr",
     "output_type": "stream",
     "text": [
      " 60%|██████    | 6/10 [21:37<14:25, 216.26s/it]"
     ]
    },
    {
     "name": "stdout",
     "output_type": "stream",
     "text": [
      "epoch: 6, loss: 0.0165948766458082, validation accuracy: 0.9529974108743279\n"
     ]
    },
    {
     "name": "stderr",
     "output_type": "stream",
     "text": [
      " 70%|███████   | 7/10 [25:13<10:48, 216.05s/it]"
     ]
    },
    {
     "name": "stdout",
     "output_type": "stream",
     "text": [
      "epoch: 7, loss: 0.014243854024258268, validation accuracy: 0.951503684524995\n"
     ]
    },
    {
     "name": "stderr",
     "output_type": "stream",
     "text": [
      " 80%|████████  | 8/10 [28:50<07:12, 216.28s/it]"
     ]
    },
    {
     "name": "stdout",
     "output_type": "stream",
     "text": [
      "epoch: 8, loss: 0.011258047747896962, validation accuracy: 0.9544911372236606\n"
     ]
    },
    {
     "name": "stderr",
     "output_type": "stream",
     "text": [
      " 90%|█████████ | 9/10 [32:27<03:36, 216.62s/it]"
     ]
    },
    {
     "name": "stdout",
     "output_type": "stream",
     "text": [
      "epoch: 9, loss: 0.007791793334531594, validation accuracy: 0.9551384186417048\n"
     ]
    },
    {
     "name": "stderr",
     "output_type": "stream",
     "text": [
      "100%|██████████| 10/10 [36:03<00:00, 216.37s/it]"
     ]
    },
    {
     "name": "stdout",
     "output_type": "stream",
     "text": [
      "epoch: 10, loss: 0.005830197974267709, validation accuracy: 0.955785700059749\n"
     ]
    },
    {
     "name": "stderr",
     "output_type": "stream",
     "text": [
      "\n"
     ]
    },
    {
     "data": {
      "image/png": "[encoded data removed]",
      "text/plain": [
       "<Figure size 432x288 with 1 Axes>"
      ]
     },
     "metadata": {
      "needs_background": "light"
     },
     "output_type": "display_data"
    }
   ],
   "source": [
    "vowel_model_resnet, vowel_loss_resnet = run_model(vowel_model_resnet, \n",
    "                                                        vowel_diacritic_trainer_resnet, \n",
    "                                                        10, \n",
    "                                                        vowel_diacritic_optimizer_resnet, \n",
    "                                                        criterion,\n",
    "                                                        vowel_diacritic_tester_resnet)\n",
    "\n",
    "plot_loss(vowel_loss_resnet, char_type_gr)\n",
    "torch.save(vowel_model_resnet, 'storage/models/vowel_diacritic_resnet.pth')\n",
    "\n",
    "with open('vowel_diacritic_loss_resnet.pickle', 'wb') as f:\n",
    "    pickle.dump(vowel_loss_resnet, f, protocol=4)"
   ]
  },
  {
   "cell_type": "code",
   "execution_count": 27,
   "metadata": {},
   "outputs": [
    {
     "name": "stderr",
     "output_type": "stream",
     "text": [
      " 10%|█         | 1/10 [03:36<32:30, 216.72s/it]"
     ]
    },
    {
     "name": "stdout",
     "output_type": "stream",
     "text": [
      "epoch: 1, loss: 0.2322453204586924, validation accuracy: 0.9563085042820155\n"
     ]
    },
    {
     "name": "stderr",
     "output_type": "stream",
     "text": [
      " 20%|██        | 2/10 [07:13<28:54, 216.80s/it]"
     ]
    },
    {
     "name": "stdout",
     "output_type": "stream",
     "text": [
      "epoch: 2, loss: 0.09704800953131273, validation accuracy: 0.9610137422824139\n"
     ]
    },
    {
     "name": "stderr",
     "output_type": "stream",
     "text": [
      " 30%|███       | 3/10 [10:51<25:20, 217.20s/it]"
     ]
    },
    {
     "name": "stdout",
     "output_type": "stream",
     "text": [
      "epoch: 3, loss: 0.04993906808030083, validation accuracy: 0.9615863373829915\n"
     ]
    },
    {
     "name": "stderr",
     "output_type": "stream",
     "text": [
      " 40%|████      | 4/10 [14:29<21:44, 217.43s/it]"
     ]
    },
    {
     "name": "stdout",
     "output_type": "stream",
     "text": [
      "epoch: 4, loss: 0.02377726182163474, validation accuracy: 0.9612875921131249\n"
     ]
    },
    {
     "name": "stderr",
     "output_type": "stream",
     "text": [
      " 50%|█████     | 5/10 [18:07<18:07, 217.54s/it]"
     ]
    },
    {
     "name": "stdout",
     "output_type": "stream",
     "text": [
      "epoch: 5, loss: 0.016965409763068318, validation accuracy: 0.9631547500497909\n"
     ]
    },
    {
     "name": "stderr",
     "output_type": "stream",
     "text": [
      " 70%|███████   | 7/10 [25:23<10:52, 217.65s/it]"
     ]
    },
    {
     "name": "stdout",
     "output_type": "stream",
     "text": [
      "epoch: 7, loss: 0.011260880802969534, validation accuracy: 0.9644493128858793\n"
     ]
    },
    {
     "name": "stderr",
     "output_type": "stream",
     "text": [
      " 80%|████████  | 8/10 [28:59<07:14, 217.17s/it]"
     ]
    },
    {
     "name": "stdout",
     "output_type": "stream",
     "text": [
      "epoch: 8, loss: 0.009328855971891092, validation accuracy: 0.9651463851822346\n"
     ]
    },
    {
     "name": "stderr",
     "output_type": "stream",
     "text": [
      " 90%|█████████ | 9/10 [32:35<03:36, 216.92s/it]"
     ]
    },
    {
     "name": "stdout",
     "output_type": "stream",
     "text": [
      "epoch: 9, loss: 0.005790380557694758, validation accuracy: 0.965071698864768\n"
     ]
    },
    {
     "name": "stderr",
     "output_type": "stream",
     "text": [
      "100%|██████████| 10/10 [36:11<00:00, 217.16s/it]"
     ]
    },
    {
     "name": "stdout",
     "output_type": "stream",
     "text": [
      "epoch: 10, loss: 0.004057168099747236, validation accuracy: 0.9678101971718781\n"
     ]
    },
    {
     "name": "stderr",
     "output_type": "stream",
     "text": [
      "\n"
     ]
    },
    {
     "data": {
      "image/png": "[encoded data removed]",
      "text/plain": [
       "<Figure size 432x288 with 1 Axes>"
      ]
     },
     "metadata": {
      "needs_background": "light"
     },
     "output_type": "display_data"
    }
   ],
   "source": [
    "consonant_model_resnet, consonant_loss_resnet = run_model(consonant_model_resnet, \n",
    "                                                        consonant_diacritic_trainer_resnet, \n",
    "                                                        10, \n",
    "                                                        consonant_diacritic_optimizer_resnet, \n",
    "                                                        criterion,\n",
    "                                                        consonant_diacritic_tester_resnet)\n",
    "\n",
    "plot_loss(consonant_loss_resnet, char_type_gr)\n",
    "torch.save(consonant_model_resnet, 'storage/models/consonant_diacritic_resnet.pth')\n",
    "\n",
    "with open('consonant_diacritic_loss_resnet.pickle', 'wb') as f:\n",
    "    pickle.dump(consonant_loss_resnet, f, protocol=4)"
   ]
  },
  {
   "cell_type": "code",
   "execution_count": null,
   "metadata": {},
   "outputs": [],
   "source": []
  }
 ],
 "metadata": {
  "kernelspec": {
   "display_name": "Python 3",
   "language": "python",
   "name": "python3"
  },
  "language_info": {
   "codemirror_mode": {
    "name": "ipython",
    "version": 3
   },
   "file_extension": ".py",
   "mimetype": "text/x-python",
   "name": "python",
   "nbconvert_exporter": "python",
   "pygments_lexer": "ipython3",
   "version": "3.6.8"
  }
 },
 "nbformat": 4,
 "nbformat_minor": 4
}
